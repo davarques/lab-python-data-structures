{
  "nbformat": 4,
  "nbformat_minor": 0,
  "metadata": {
    "colab": {
      "provenance": [],
      "authorship_tag": "ABX9TyODhhOAc9oI+5hIrLdFehC5",
      "include_colab_link": true
    },
    "kernelspec": {
      "name": "python3",
      "display_name": "Python 3"
    },
    "language_info": {
      "name": "python"
    }
  },
  "cells": [
    {
      "cell_type": "markdown",
      "metadata": {
        "id": "view-in-github",
        "colab_type": "text"
      },
      "source": [
        "<a href=\"https://colab.research.google.com/github/davarques/lab-python-data-structures/blob/main/David_Arques_Lab_1_Week_1.ipynb\" target=\"_parent\"><img src=\"https://colab.research.google.com/assets/colab-badge.svg\" alt=\"Open In Colab\"/></a>"
      ]
    },
    {
      "cell_type": "markdown",
      "source": [
        "Lab | Data Structures\n",
        "Exercise: Managing Customer Orders\n",
        "\n",
        "As part of a business venture, you are starting an online store that sells various products. To ensure smooth operations, you need to develop a program that manages customer orders and inventory.\n",
        "\n",
        "Follow the steps below to complete the exercise:"
      ],
      "metadata": {
        "id": "DohLY_4MbwCV"
      }
    },
    {
      "cell_type": "code",
      "source": [
        "#1 Define a list called products that contains the following items: \"t-shirt\", \"mug\", \"hat\", \"book\", \"keychain\".\n",
        "\n",
        "products = [\"t-shirt\", \"mug\", \"hat\", \"book\", \"keychain\"]\n",
        "\n",
        "#2 Create an empty dictionary called inventory.\n",
        "\n",
        "inventory = {}\n",
        "\n",
        "#3 Ask the user to input the quantity of each product available in the inventory. Use the product names from the products list as keys in the inventory dictionary and assign the respective quantities as values.\n",
        "\n",
        "for product in products:\n",
        "  quantity = int(input(f\"Enter the quantity of {product} available: \"))\n",
        "  inventory[product] = quantity\n",
        "\n",
        "#4 Create an empty set called customer_orders.\n",
        "\n",
        "customer_orders_set = set()\n",
        "\n",
        "#5 Ask the user to input the name of three products that a customer wants to order (from those in the products list, meaning three products out of \"t-shirt\", \"mug\", \"hat\", \"book\" or \"keychain\". Add each product name to the customer_orders set.\n",
        "\n",
        "for customer_input in range(3):\n",
        "  customer_products = input(f\"Enter the name of a product you want: \")\n",
        "  customer_orders_set.add(customer_products)\n",
        "\n",
        "#6 Print the products in the customer_orders set.\n",
        "\n",
        "print('Customer orders: ')\n",
        "for customer_products in customer_orders_set:\n",
        "    print(customer_products)\n",
        "\n",
        "#7 Calculate the following order statistics:\n",
        "\n",
        "#Total Products Ordered: The total number of products in the customer_orders set\n",
        "\n",
        "Total_products_ordered = len(customer_orders_set)\n",
        "\n",
        "#Percentage of Products Ordered: The percentage of products ordered compared to the total available products.\n",
        "\n",
        "Percentage_products_ordered = (Total_products_ordered / len(products)) * 100\n",
        "\n",
        "order_status = (Total_products_ordered, Percentage_products_ordered)\n",
        "\n",
        "#8 Print the order statistics using the following format:\n",
        "#Order Statistics:\n",
        "#Total Products Ordered: <total_products_ordered>\n",
        "#Percentage of Products Ordered: <percentage_ordered>%\n",
        "\n",
        "print(\"\\nOrder Statistics:\")\n",
        "print(f\"Total Products Ordered: {Total_products_ordered}\")\n",
        "print(f\"Percentage of Products Ordered:{Percentage_products_ordered}%\")\n",
        "\n",
        "#9 Update the inventory by subtracting 1 from the quantity of each product. Modify the inventory dictionary accordingly.\n",
        "\n",
        "for product in customer_orders_set:\n",
        "      inventory[product] -= 1\n",
        "\n",
        "#10 Print the updated inventory, displaying the quantity of each product on separate lines.\n",
        "\n",
        "print(\"\\nThis is your inventory updated:\")\n",
        "for product, quantity in inventory.items():\n",
        "  print(f\"{product}: {quantity}\")"
      ],
      "metadata": {
        "id": "gFXLCJwEb21u",
        "colab": {
          "base_uri": "https://localhost:8080/"
        },
        "outputId": "20e810c5-4170-4a00-987e-08b24ea53d8f"
      },
      "execution_count": 7,
      "outputs": [
        {
          "output_type": "stream",
          "name": "stdout",
          "text": [
            "Enter the quantity of t-shirt available: 45\n",
            "Enter the quantity of mug available: 86\n",
            "Enter the quantity of hat available: 65\n",
            "Enter the quantity of book available: 32\n",
            "Enter the quantity of keychain available: 54\n",
            "Enter the name of a product you want: hat\n",
            "Enter the name of a product you want: book\n",
            "Enter the name of a product you want: mug\n",
            "Customer orders: \n",
            "hat\n",
            "mug\n",
            "book\n",
            "\n",
            "Order Statistics:\n",
            "Total Products Ordered: 3\n",
            "Percentage of Products Ordered:60.0%\n",
            "\n",
            "This is your inventory updated:\n",
            "t-shirt: 45\n",
            "mug: 85\n",
            "hat: 64\n",
            "book: 31\n",
            "keychain: 54\n"
          ]
        }
      ]
    }
  ]
}